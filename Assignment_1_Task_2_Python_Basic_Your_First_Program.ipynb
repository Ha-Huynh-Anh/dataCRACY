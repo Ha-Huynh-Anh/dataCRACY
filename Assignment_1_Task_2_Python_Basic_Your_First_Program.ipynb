{
  "nbformat": 4,
  "nbformat_minor": 0,
  "metadata": {
    "colab": {
      "name": "Assignment#1_Task 2_Python Basic - Your First Program.ipynb",
      "provenance": [],
      "collapsed_sections": [],
      "authorship_tag": "ABX9TyOUAZcBAk0vt94Kg0f7deKX",
      "include_colab_link": true
    },
    "kernelspec": {
      "display_name": "Python 3",
      "name": "python3"
    },
    "language_info": {
      "name": "python"
    }
  },
  "cells": [
    {
      "cell_type": "markdown",
      "metadata": {
        "id": "view-in-github",
        "colab_type": "text"
      },
      "source": [
        "<a href=\"https://colab.research.google.com/github/Ha-Huynh-Anh/dataCRACY/blob/master/Assignment_1_Task_2_Python_Basic_Your_First_Program.ipynb\" target=\"_parent\"><img src=\"https://colab.research.google.com/assets/colab-badge.svg\" alt=\"Open In Colab\"/></a>"
      ]
    },
    {
      "cell_type": "code",
      "metadata": {
        "colab": {
          "background_save": true
        },
        "id": "z2jG-P3TTJUX"
      },
      "source": [
        "# This program says hello and asks for my name."
      ],
      "execution_count": null,
      "outputs": []
    },
    {
      "cell_type": "code",
      "metadata": {
        "colab": {
          "background_save": true,
          "base_uri": "https://localhost:8080/"
        },
        "id": "5Praw-QjUIHN",
        "outputId": "9e7b14d4-46ed-4fee-ca74-ea856326239f"
      },
      "source": [
        "print('Hello, world!')\n",
        "print('What is your name?')    # ask for their name"
      ],
      "execution_count": null,
      "outputs": [
        {
          "output_type": "stream",
          "text": [
            "Hello, world!\n",
            "What is your name?\n"
          ],
          "name": "stdout"
        }
      ]
    },
    {
      "cell_type": "code",
      "metadata": {
        "colab": {
          "background_save": true
        },
        "id": "VK6AbJGsURPi"
      },
      "source": [
        "myName = input()"
      ],
      "execution_count": null,
      "outputs": []
    },
    {
      "cell_type": "code",
      "metadata": {
        "colab": {
          "background_save": true
        },
        "id": "nuueKhFFUYFJ",
        "outputId": "63a8d137-e4cb-407f-9f19-9b9b0b5f20e7"
      },
      "source": [
        "print('It is good to meet you, ' + myName)"
      ],
      "execution_count": null,
      "outputs": [
        {
          "output_type": "stream",
          "text": [
            "It is good to meet you, HA\n"
          ],
          "name": "stdout"
        }
      ]
    },
    {
      "cell_type": "code",
      "metadata": {
        "colab": {
          "background_save": true
        },
        "id": "Lro04QXRUaja",
        "outputId": "6b96beea-4372-4ea8-c44b-487461431a6a"
      },
      "source": [
        "print('The length of your name is:')\n",
        "print(len(myName))"
      ],
      "execution_count": null,
      "outputs": [
        {
          "output_type": "stream",
          "text": [
            "The length of your name is:\n",
            "2\n"
          ],
          "name": "stdout"
        }
      ]
    },
    {
      "cell_type": "code",
      "metadata": {
        "id": "RuyNxwiYUd4U"
      },
      "source": [
        "print('What is your age?')    # ask for their age\n",
        "myAge = input()\n",
        "print('You will be ' + str(int(myAge) + 1) + ' in a year.')"
      ],
      "execution_count": null,
      "outputs": []
    }
  ]
}